{
 "cells": [
  {
   "cell_type": "markdown",
   "id": "2ff8cdd8",
   "metadata": {},
   "source": [
    "# Построение диаграммы для категориальных данных"
   ]
  },
  {
   "cell_type": "code",
   "execution_count": 1,
   "id": "54abf3e2",
   "metadata": {},
   "outputs": [],
   "source": [
    "import numpy as np\n",
    "import matplotlib.pyplot as plt"
   ]
  },
  {
   "cell_type": "code",
   "execution_count": 2,
   "id": "15859fd0",
   "metadata": {},
   "outputs": [],
   "source": [
    "fruits = [\"apple\", \"peach\", \"orange\", \"bannana\", \"melon\"]\n",
    "counts = [34, 25, 43, 31, 17]"
   ]
  },
  {
   "cell_type": "code",
   "execution_count": 3,
   "id": "fdf9a0cf",
   "metadata": {},
   "outputs": [
    {
     "data": {
      "text/plain": [
       "Text(0, 0.5, 'Count')"
      ]
     },
     "execution_count": 3,
     "metadata": {},
     "output_type": "execute_result"
    },
    {
     "data": {
      "image/png": "[encoded data removed]",
      "text/plain": [
       "<Figure size 432x288 with 1 Axes>"
      ]
     },
     "metadata": {
      "needs_background": "light"
     },
     "output_type": "display_data"
    }
   ],
   "source": [
    "plt.bar(fruits, counts)\n",
    "plt.title(\"Fruits!\")\n",
    "plt.xlabel(\"Fruit\")\n",
    "plt.ylabel(\"Count\")"
   ]
  },
  {
   "cell_type": "code",
   "execution_count": null,
   "id": "790d43f1",
   "metadata": {},
   "outputs": [],
   "source": []
  }
 ],
 "metadata": {
  "kernelspec": {
   "display_name": "Python 3 (ipykernel)",
   "language": "python",
   "name": "python3"
  },
  "language_info": {
   "codemirror_mode": {
    "name": "ipython",
    "version": 3
   },
   "file_extension": ".py",
   "mimetype": "text/x-python",
   "name": "python",
   "nbconvert_exporter": "python",
   "pygments_lexer": "ipython3",
   "version": "3.9.7"
  }
 },
 "nbformat": 4,
 "nbformat_minor": 5
}
